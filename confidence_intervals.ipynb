{
 "cells": [
  {
   "cell_type": "markdown",
   "metadata": {},
   "source": [
    "# Confidence intervals"
   ]
  },
  {
   "cell_type": "markdown",
   "metadata": {},
   "source": [
    "## Import the modules"
   ]
  },
  {
   "cell_type": "code",
   "execution_count": 9,
   "metadata": {},
   "outputs": [],
   "source": [
    "import pandas as pd\n",
    "import numpy as np\n",
    "import matplotlib.pyplot as plt\n",
    "import scipy.stats as st\n",
    "import math as m\n",
    "import statsmodels.stats.api as sm"
   ]
  },
  {
   "cell_type": "markdown",
   "metadata": {},
   "source": [
    "## Import helper function"
   ]
  },
  {
   "cell_type": "code",
   "execution_count": 2,
   "metadata": {},
   "outputs": [],
   "source": [
    "import helper\n",
    "import importlib"
   ]
  },
  {
   "cell_type": "code",
   "execution_count": 8,
   "metadata": {},
   "outputs": [],
   "source": [
    "importlib.reload(helper)\n",
    "helper.load_files()"
   ]
  },
  {
   "cell_type": "markdown",
   "metadata": {},
   "source": [
    "## import data"
   ]
  },
  {
   "cell_type": "code",
   "execution_count": 11,
   "metadata": {},
   "outputs": [
    {
     "data": {
      "text/html": [
       "<div>\n",
       "<style scoped>\n",
       "    .dataframe tbody tr th:only-of-type {\n",
       "        vertical-align: middle;\n",
       "    }\n",
       "\n",
       "    .dataframe tbody tr th {\n",
       "        vertical-align: top;\n",
       "    }\n",
       "\n",
       "    .dataframe thead th {\n",
       "        text-align: right;\n",
       "    }\n",
       "</style>\n",
       "<table border=\"1\" class=\"dataframe\">\n",
       "  <thead>\n",
       "    <tr style=\"text-align: right;\">\n",
       "      <th></th>\n",
       "      <th>Product Name</th>\n",
       "      <th>Crust</th>\n",
       "      <th>Toppings</th>\n",
       "      <th>Price</th>\n",
       "      <th>Delivery Time</th>\n",
       "      <th># pizzas the customer ordered before</th>\n",
       "    </tr>\n",
       "  </thead>\n",
       "  <tbody>\n",
       "    <tr>\n",
       "      <th>0</th>\n",
       "      <td>Pepperoni</td>\n",
       "      <td>Cheese_and_Garlic</td>\n",
       "      <td>4</td>\n",
       "      <td>17</td>\n",
       "      <td>26.3</td>\n",
       "      <td>4</td>\n",
       "    </tr>\n",
       "    <tr>\n",
       "      <th>1</th>\n",
       "      <td>Hawaiian</td>\n",
       "      <td>Cheese_and_Chili</td>\n",
       "      <td>4</td>\n",
       "      <td>17</td>\n",
       "      <td>27.8</td>\n",
       "      <td>4</td>\n",
       "    </tr>\n",
       "    <tr>\n",
       "      <th>2</th>\n",
       "      <td>Calzone</td>\n",
       "      <td>Cheese_and_Garlic</td>\n",
       "      <td>3</td>\n",
       "      <td>20</td>\n",
       "      <td>31.5</td>\n",
       "      <td>7</td>\n",
       "    </tr>\n",
       "    <tr>\n",
       "      <th>3</th>\n",
       "      <td>Margherita</td>\n",
       "      <td>Cheese</td>\n",
       "      <td>4</td>\n",
       "      <td>23</td>\n",
       "      <td>20.8</td>\n",
       "      <td>7</td>\n",
       "    </tr>\n",
       "    <tr>\n",
       "      <th>4</th>\n",
       "      <td>Calzone</td>\n",
       "      <td>Cheese_and_Garlic</td>\n",
       "      <td>4</td>\n",
       "      <td>19</td>\n",
       "      <td>27.7</td>\n",
       "      <td>8</td>\n",
       "    </tr>\n",
       "  </tbody>\n",
       "</table>\n",
       "</div>"
      ],
      "text/plain": [
       "  Product Name              Crust  Toppings  Price  Delivery Time  \\\n",
       "0    Pepperoni  Cheese_and_Garlic         4     17           26.3   \n",
       "1     Hawaiian   Cheese_and_Chili         4     17           27.8   \n",
       "2      Calzone  Cheese_and_Garlic         3     20           31.5   \n",
       "3   Margherita             Cheese         4     23           20.8   \n",
       "4      Calzone  Cheese_and_Garlic         4     19           27.7   \n",
       "\n",
       "   # pizzas the customer ordered before  \n",
       "0                                     4  \n",
       "1                                     4  \n",
       "2                                     7  \n",
       "3                                     7  \n",
       "4                                     8  "
      ]
     },
     "execution_count": 11,
     "metadata": {},
     "output_type": "execute_result"
    }
   ],
   "source": [
    "df_pizza = pd.read_csv(\"pizza_restaurant.csv\")\n",
    "df_pizza.head()"
   ]
  },
  {
   "cell_type": "code",
   "execution_count": 13,
   "metadata": {},
   "outputs": [
    {
     "data": {
      "text/html": [
       "<div>\n",
       "<style scoped>\n",
       "    .dataframe tbody tr th:only-of-type {\n",
       "        vertical-align: middle;\n",
       "    }\n",
       "\n",
       "    .dataframe tbody tr th {\n",
       "        vertical-align: top;\n",
       "    }\n",
       "\n",
       "    .dataframe thead th {\n",
       "        text-align: right;\n",
       "    }\n",
       "</style>\n",
       "<table border=\"1\" class=\"dataframe\">\n",
       "  <thead>\n",
       "    <tr style=\"text-align: right;\">\n",
       "      <th></th>\n",
       "      <th>Toppings</th>\n",
       "      <th>Price</th>\n",
       "      <th>Delivery Time</th>\n",
       "      <th># pizzas the customer ordered before</th>\n",
       "    </tr>\n",
       "  </thead>\n",
       "  <tbody>\n",
       "    <tr>\n",
       "      <th>count</th>\n",
       "      <td>1000.000000</td>\n",
       "      <td>1000.000000</td>\n",
       "      <td>1000.000000</td>\n",
       "      <td>1000.000000</td>\n",
       "    </tr>\n",
       "    <tr>\n",
       "      <th>mean</th>\n",
       "      <td>3.965000</td>\n",
       "      <td>19.342000</td>\n",
       "      <td>25.061100</td>\n",
       "      <td>5.659000</td>\n",
       "    </tr>\n",
       "    <tr>\n",
       "      <th>std</th>\n",
       "      <td>1.021185</td>\n",
       "      <td>3.345479</td>\n",
       "      <td>2.490397</td>\n",
       "      <td>2.459831</td>\n",
       "    </tr>\n",
       "    <tr>\n",
       "      <th>min</th>\n",
       "      <td>1.000000</td>\n",
       "      <td>12.000000</td>\n",
       "      <td>17.800000</td>\n",
       "      <td>0.000000</td>\n",
       "    </tr>\n",
       "    <tr>\n",
       "      <th>25%</th>\n",
       "      <td>3.000000</td>\n",
       "      <td>17.000000</td>\n",
       "      <td>23.300000</td>\n",
       "      <td>4.000000</td>\n",
       "    </tr>\n",
       "    <tr>\n",
       "      <th>50%</th>\n",
       "      <td>4.000000</td>\n",
       "      <td>19.000000</td>\n",
       "      <td>25.100000</td>\n",
       "      <td>5.000000</td>\n",
       "    </tr>\n",
       "    <tr>\n",
       "      <th>75%</th>\n",
       "      <td>5.000000</td>\n",
       "      <td>21.000000</td>\n",
       "      <td>26.700000</td>\n",
       "      <td>7.000000</td>\n",
       "    </tr>\n",
       "    <tr>\n",
       "      <th>max</th>\n",
       "      <td>7.000000</td>\n",
       "      <td>33.000000</td>\n",
       "      <td>32.400000</td>\n",
       "      <td>15.000000</td>\n",
       "    </tr>\n",
       "  </tbody>\n",
       "</table>\n",
       "</div>"
      ],
      "text/plain": [
       "          Toppings        Price  Delivery Time  \\\n",
       "count  1000.000000  1000.000000    1000.000000   \n",
       "mean      3.965000    19.342000      25.061100   \n",
       "std       1.021185     3.345479       2.490397   \n",
       "min       1.000000    12.000000      17.800000   \n",
       "25%       3.000000    17.000000      23.300000   \n",
       "50%       4.000000    19.000000      25.100000   \n",
       "75%       5.000000    21.000000      26.700000   \n",
       "max       7.000000    33.000000      32.400000   \n",
       "\n",
       "       # pizzas the customer ordered before  \n",
       "count                           1000.000000  \n",
       "mean                               5.659000  \n",
       "std                                2.459831  \n",
       "min                                0.000000  \n",
       "25%                                4.000000  \n",
       "50%                                5.000000  \n",
       "75%                                7.000000  \n",
       "max                               15.000000  "
      ]
     },
     "execution_count": 13,
     "metadata": {},
     "output_type": "execute_result"
    }
   ],
   "source": [
    "df_pizza.describe()"
   ]
  },
  {
   "cell_type": "code",
   "execution_count": 24,
   "metadata": {},
   "outputs": [
    {
     "name": "stdout",
     "output_type": "stream",
     "text": [
      "<class 'pandas.core.frame.DataFrame'>\n",
      "RangeIndex: 1000 entries, 0 to 999\n",
      "Data columns (total 6 columns):\n",
      " #   Column                                Non-Null Count  Dtype  \n",
      "---  ------                                --------------  -----  \n",
      " 0   Product Name                          1000 non-null   object \n",
      " 1   Crust                                 1000 non-null   object \n",
      " 2   Toppings                              1000 non-null   int64  \n",
      " 3   Price                                 1000 non-null   int64  \n",
      " 4   Delivery Time                         1000 non-null   float64\n",
      " 5   # pizzas the customer ordered before  1000 non-null   int64  \n",
      "dtypes: float64(1), int64(3), object(2)\n",
      "memory usage: 47.0+ KB\n"
     ]
    }
   ],
   "source": [
    "df_pizza.info()"
   ]
  },
  {
   "cell_type": "markdown",
   "metadata": {},
   "source": [
    "## Standard Error of the sample mean (SE)\n",
    "$$ SE = \\frac{\\sigma}{\\sqrt{n}} $$ "
   ]
  },
  {
   "cell_type": "code",
   "execution_count": 17,
   "metadata": {},
   "outputs": [
    {
     "name": "stdout",
     "output_type": "stream",
     "text": [
      "The SE of the Price is 0.11\n"
     ]
    }
   ],
   "source": [
    "# let's do an example with the Price:\n",
    "se_price = df_pizza.Price.std()/np.sqrt(df_pizza.Price.count())\n",
    "print(f\"The SE of the Price is {se_price:.2f}\")"
   ]
  },
  {
   "cell_type": "code",
   "execution_count": 19,
   "metadata": {},
   "outputs": [
    {
     "name": "stdout",
     "output_type": "stream",
     "text": [
      "The SE of the Price is 0.11\n"
     ]
    }
   ],
   "source": [
    "# let's use a function:\n",
    "se_price2 = st.sem(df_pizza.Price)\n",
    "print(f\"The SE of the Price is {se_price2:.2f}\")"
   ]
  },
  {
   "cell_type": "markdown",
   "metadata": {},
   "source": [
    "## Z-score and standardization "
   ]
  },
  {
   "cell_type": "code",
   "execution_count": 20,
   "metadata": {},
   "outputs": [
    {
     "data": {
      "text/html": [
       "<div>\n",
       "<style scoped>\n",
       "    .dataframe tbody tr th:only-of-type {\n",
       "        vertical-align: middle;\n",
       "    }\n",
       "\n",
       "    .dataframe tbody tr th {\n",
       "        vertical-align: top;\n",
       "    }\n",
       "\n",
       "    .dataframe thead th {\n",
       "        text-align: right;\n",
       "    }\n",
       "</style>\n",
       "<table border=\"1\" class=\"dataframe\">\n",
       "  <thead>\n",
       "    <tr style=\"text-align: right;\">\n",
       "      <th></th>\n",
       "      <th>Product Name</th>\n",
       "      <th>Crust</th>\n",
       "      <th>Toppings</th>\n",
       "      <th>Price</th>\n",
       "      <th>Delivery Time</th>\n",
       "      <th># pizzas the customer ordered before</th>\n",
       "    </tr>\n",
       "  </thead>\n",
       "  <tbody>\n",
       "    <tr>\n",
       "      <th>0</th>\n",
       "      <td>Pepperoni</td>\n",
       "      <td>Cheese_and_Garlic</td>\n",
       "      <td>4</td>\n",
       "      <td>17</td>\n",
       "      <td>26.3</td>\n",
       "      <td>4</td>\n",
       "    </tr>\n",
       "    <tr>\n",
       "      <th>1</th>\n",
       "      <td>Hawaiian</td>\n",
       "      <td>Cheese_and_Chili</td>\n",
       "      <td>4</td>\n",
       "      <td>17</td>\n",
       "      <td>27.8</td>\n",
       "      <td>4</td>\n",
       "    </tr>\n",
       "  </tbody>\n",
       "</table>\n",
       "</div>"
      ],
      "text/plain": [
       "  Product Name              Crust  Toppings  Price  Delivery Time  \\\n",
       "0    Pepperoni  Cheese_and_Garlic         4     17           26.3   \n",
       "1     Hawaiian   Cheese_and_Chili         4     17           27.8   \n",
       "\n",
       "   # pizzas the customer ordered before  \n",
       "0                                     4  \n",
       "1                                     4  "
      ]
     },
     "execution_count": 20,
     "metadata": {},
     "output_type": "execute_result"
    }
   ],
   "source": [
    "df_pizza.head(2)"
   ]
  },
  {
   "cell_type": "code",
   "execution_count": 22,
   "metadata": {},
   "outputs": [
    {
     "name": "stdout",
     "output_type": "stream",
     "text": [
      "the z-score of the delivery time is 0      0.497471\n",
      "1      1.099784\n",
      "2      2.585491\n",
      "3     -1.711012\n",
      "4      1.059630\n",
      "         ...   \n",
      "995    1.139939\n",
      "996    2.023332\n",
      "997    1.059630\n",
      "998   -0.988236\n",
      "999    0.095928\n",
      "Name: Delivery Time, Length: 1000, dtype: float64\n"
     ]
    }
   ],
   "source": [
    "# using the formula: z = (x - mean)/std\n",
    "z_score = (df_pizza[\"Delivery Time\"]-df_pizza[\"Delivery Time\"].mean())/df_pizza[\"Delivery Time\"].std()\n",
    "print(f\"the z-score of the delivery time is {z_score}\")"
   ]
  },
  {
   "cell_type": "code",
   "execution_count": 27,
   "metadata": {},
   "outputs": [
    {
     "name": "stdout",
     "output_type": "stream",
     "text": [
      "the z-score of the delivery time is [ 0.49771974  1.10033465  2.58678476 -1.71186826  1.06016032 -0.66733575\n",
      "  1.06016032 -1.0289047   0.01562781 -0.06472084  0.77894003 -0.74768441\n",
      "  1.9038212  -1.51099662 -0.78785873 -2.11361153 -1.87256557 -0.18524382\n",
      "  0.33702243 -0.5869871  -0.82803306 -1.35029932 -0.02454651  0.05580214\n",
      "  0.33702243 -0.78785873 -0.26559248 -0.62716142  0.2968481  -1.26995066\n",
      "  1.06016032 -2.07343721  1.50207792  1.019986    1.50207792  0.37719676\n",
      " -0.42628979  1.38155494  1.58242658 -0.66733575  2.02434418  0.65841705\n",
      " -0.22541815  0.2968481   1.62260091  0.61824272 -1.06907902 -0.78785873\n",
      "  0.41737109  0.41737109  1.62260091 -0.86820739  0.05580214  2.58678476\n",
      " -0.78785873  1.94399552 -0.70751008 -0.10489517  0.01562781  0.01562781\n",
      "  0.1361508  -0.06472084 -0.5869871   0.21649945  1.38155494  0.61824272\n",
      "  1.62260091 -1.67169393 -0.5869871   0.7387657  -0.46646411  0.01562781\n",
      " -1.14942768  0.77894003  0.93963734  2.42608745 -0.30576681 -0.90838171\n",
      "  1.18068331  1.38155494 -0.90838171 -0.1450695   1.26103196 -0.30576681\n",
      "  0.09597647  0.61824272  0.65841705 -0.34594113  0.49771974 -0.34594113\n",
      "  0.97981167  0.69859138  1.019986    0.21649945 -0.22541815  1.019986\n",
      " -1.10925335 -0.42628979  1.30120629 -1.55117095  1.54225225  1.94399552\n",
      "  0.01562781 -1.26995066  1.10033465 -0.06472084 -2.07343721 -0.22541815\n",
      "  0.01562781  0.49771974  0.7387657   0.01562781  0.97981167  1.06016032\n",
      "  0.21649945  0.53789407  0.45754541 -1.0289047  -1.39047364 -0.90838171\n",
      " -0.90838171 -0.54681277 -1.95291422 -1.18960201 -2.27430884 -1.31012499\n",
      "  0.41737109 -1.22977633 -0.18524382  0.01562781 -0.46646411 -0.42628979\n",
      " -0.30576681 -0.86820739 -0.62716142  0.05580214  1.78329822  0.85928869\n",
      " -0.74768441  0.1361508  -1.71186826  0.5780684   1.06016032 -0.38611546\n",
      " -1.06907902  0.41737109 -0.42628979 -0.30576681  0.45754541  1.30120629\n",
      " -0.86820739  0.81911436  0.69859138 -0.82803306 -0.42628979  0.05580214\n",
      "  0.65841705  1.86364687  0.61824272  0.09597647 -0.5869871   0.5780684\n",
      "  0.89946301  1.18068331 -0.66733575 -2.03326288 -0.18524382 -0.10489517\n",
      "  1.62260091 -0.78785873 -0.46646411 -1.63151961 -0.54681277 -0.22541815\n",
      " -0.1450695  -1.22977633 -1.71186826 -1.0289047  -0.98873037 -1.22977633\n",
      " -0.90838171  0.33702243  0.2968481  -0.18524382 -2.07343721  0.5780684\n",
      " -0.26559248 -2.7965751  -2.67605212 -0.74768441 -0.26559248  0.25667378\n",
      " -0.06472084 -0.90838171 -1.35029932 -1.14942768  1.42172927  1.34138061\n",
      " -0.42628979 -0.22541815  1.86364687 -1.0289047   0.21649945  0.2968481\n",
      " -0.54681277 -1.31012499 -1.55117095 -0.70751008  1.14050898  0.65841705\n",
      "  0.5780684   0.37719676  1.78329822  0.41737109 -0.46646411  0.01562781\n",
      " -1.06907902 -0.06472084  0.5780684   0.1361508  -0.50663844 -0.10489517\n",
      "  0.61824272  0.97981167 -1.83239124 -0.1450695  -0.06472084 -0.74768441\n",
      "  0.89946301  0.2968481   0.37719676  0.01562781  0.69859138 -0.46646411\n",
      "  1.34138061  0.89946301 -0.30576681  0.17632512  0.2968481   1.30120629\n",
      " -0.38611546 -2.31448317 -1.31012499  0.65841705 -0.10489517 -1.06907902\n",
      " -0.50663844  0.45754541 -0.18524382 -0.26559248 -0.74768441  0.5780684\n",
      "  0.97981167  0.81911436  0.01562781  0.33702243 -0.10489517 -0.86820739\n",
      " -0.74768441  0.89946301 -0.34594113 -0.18524382  2.02434418 -0.50663844\n",
      "  1.30120629 -0.90838171  0.7387657  -1.43064797  0.33702243 -0.54681277\n",
      " -0.22541815 -0.98873037 -0.06472084  0.41737109 -0.30576681 -1.39047364\n",
      "  0.09597647 -0.98873037 -2.23413452  0.53789407  1.58242658  1.62260091\n",
      "  0.41737109 -1.79221692  1.38155494  1.06016032  0.93963734  0.97981167\n",
      "  0.61824272 -0.54681277 -0.42628979 -0.70751008  1.50207792  2.70730774\n",
      "  0.05580214 -0.94855604  0.33702243  1.38155494 -0.82803306  0.77894003\n",
      "  0.2968481  -0.50663844 -0.46646411  0.49771974  0.7387657  -0.78785873\n",
      " -1.06907902  1.30120629  0.33702243  0.21649945  1.18068331  0.37719676\n",
      "  0.21649945 -0.5869871  -0.70751008 -0.90838171  0.69859138  0.01562781\n",
      " -0.66733575 -1.43064797  0.2968481  -0.42628979  0.2968481  -0.78785873\n",
      "  1.10033465 -0.90838171  1.70294956  1.019986    0.97981167 -0.70751008\n",
      "  0.2968481   1.62260091 -0.26559248  0.65841705 -0.46646411 -0.1450695\n",
      " -1.18960201  1.18068331 -1.18960201  0.65841705 -0.46646411 -0.62716142\n",
      "  1.30120629 -0.38611546 -0.46646411  0.1361508  -0.5869871   1.62260091\n",
      " -1.43064797 -0.10489517  0.33702243 -0.78785873  0.09597647 -1.22977633\n",
      "  1.18068331  0.97981167 -0.54681277 -0.50663844  0.37719676 -0.98873037\n",
      "  0.65841705 -0.18524382 -1.35029932  0.01562781 -1.10925335 -0.54681277\n",
      "  0.53789407  0.2968481   1.14050898  0.49771974 -0.02454651  0.01562781\n",
      " -0.26559248 -0.34594113 -0.1450695  -0.78785873  0.01562781  0.25667378\n",
      " -1.18960201  0.21649945  1.66277523  0.49771974  0.25667378 -2.03326288\n",
      " -0.5869871   0.93963734 -2.27430884 -1.0289047  -0.50663844 -1.87256557\n",
      " -0.66733575  0.49771974  0.65841705  0.1361508  -2.03326288  0.33702243\n",
      " -0.54681277  0.09597647 -1.0289047   0.09597647 -0.46646411 -0.38611546\n",
      "  0.61824272  1.38155494  0.01562781 -0.22541815  0.09597647 -1.31012499\n",
      "  1.30120629 -0.26559248 -0.02454651 -0.62716142 -1.22977633  0.05580214\n",
      "  0.5780684   0.69859138 -0.94855604  0.2968481  -2.91709808 -0.18524382\n",
      " -1.55117095 -0.70751008 -0.90838171  1.94399552  0.1361508   0.5780684\n",
      "  0.21649945  0.81911436  1.78329822  0.89946301 -0.30576681 -0.06472084\n",
      "  0.1361508   0.2968481  -1.26995066 -1.06907902 -0.26559248 -0.10489517\n",
      "  0.09597647  0.21649945 -1.06907902 -2.07343721  0.09597647 -0.94855604\n",
      "  0.85928869  0.53789407 -1.63151961  0.45754541  0.37719676 -1.06907902\n",
      " -0.94855604 -0.18524382  1.06016032  0.25667378 -0.74768441 -0.22541815\n",
      " -1.59134528  2.38591312 -1.22977633  0.01562781  0.5780684  -0.46646411\n",
      "  0.09597647  0.89946301  0.93963734 -1.55117095  1.78329822 -1.06907902\n",
      " -0.70751008  0.65841705 -0.70751008 -1.26995066 -0.02454651 -0.22541815\n",
      "  0.81911436  1.34138061  0.01562781 -1.39047364 -0.38611546  0.61824272\n",
      " -0.66733575 -0.30576681  1.22085763  0.97981167  1.58242658  1.42172927\n",
      " -0.94855604  1.10033465  1.14050898 -1.0289047   0.49771974  0.85928869\n",
      " -0.50663844  0.77894003 -0.50663844 -2.11361153  0.21649945 -0.94855604\n",
      " -0.18524382 -0.74768441 -0.1450695   0.33702243 -0.50663844 -0.78785873\n",
      "  1.70294956  0.45754541 -1.22977633 -0.50663844 -0.42628979  1.50207792\n",
      "  2.70730774 -0.86820739  0.05580214  0.5780684   1.14050898 -0.10489517\n",
      "  0.09597647 -0.74768441 -1.22977633  0.53789407  0.05580214 -0.02454651\n",
      "  1.30120629 -1.39047364 -1.95291422 -0.70751008 -0.22541815  0.1361508\n",
      "  0.5780684  -0.82803306  0.65841705 -0.62716142 -0.78785873  0.49771974\n",
      " -1.22977633 -2.23413452  0.53789407  0.01562781 -0.54681277  0.53789407\n",
      " -1.83239124  0.21649945 -0.70751008 -1.9127399  -0.54681277  1.38155494\n",
      "  0.93963734  1.86364687  1.78329822 -1.55117095 -0.02454651 -1.43064797\n",
      " -0.66733575 -1.31012499  0.49771974  1.70294956 -0.06472084  2.30556447\n",
      " -0.98873037 -0.78785873  0.17632512  1.14050898  0.69859138 -0.26559248\n",
      " -0.82803306 -2.59570346 -0.5869871   0.5780684   1.22085763 -0.10489517\n",
      " -0.90838171 -0.82803306 -0.30576681  0.45754541 -0.30576681  0.49771974\n",
      "  0.41737109 -0.66733575 -0.70751008  0.61824272 -0.38611546  1.10033465\n",
      " -0.18524382 -0.54681277 -1.10925335  2.38591312  0.5780684   0.89946301\n",
      " -1.75204259 -0.38611546 -1.14942768  0.7387657  -0.30576681 -0.38611546\n",
      " -0.62716142  0.65841705  0.69859138  0.85928869  0.05580214 -1.06907902\n",
      "  1.86364687  0.81911436 -0.50663844  0.45754541 -0.62716142  0.65841705\n",
      "  0.21649945 -2.27430884 -0.38611546 -1.63151961  0.37719676  0.01562781\n",
      " -0.66733575  0.53789407 -1.0289047   1.10033465  0.21649945 -0.70751008\n",
      "  0.2968481  -0.02454651  1.78329822  0.2968481   0.01562781  1.10033465\n",
      " -0.26559248 -0.06472084 -1.26995066 -0.34594113  0.41737109 -1.4708223\n",
      "  1.34138061 -2.63587779  0.5780684  -0.26559248 -1.75204259 -1.10925335\n",
      "  0.53789407 -0.78785873  0.33702243 -1.67169393 -2.03326288  0.2968481\n",
      "  0.37719676  1.18068331  0.69859138  1.66277523 -0.90838171  0.2968481\n",
      "  0.25667378  0.53789407 -0.38611546 -1.63151961  1.66277523 -0.26559248\n",
      "  0.5780684   0.17632512  0.5780684   0.41737109  0.93963734  1.9038212\n",
      " -0.34594113  0.7387657  -0.5869871   0.1361508  -0.86820739 -0.30576681\n",
      "  1.10033465  1.06016032 -1.51099662  0.53789407  1.10033465  0.33702243\n",
      " -1.51099662  1.54225225  1.30120629 -0.34594113  0.37719676 -1.95291422\n",
      "  0.17632512 -0.82803306  0.25667378  0.2968481   0.41737109  1.14050898\n",
      " -1.71186826  0.41737109 -0.50663844  0.09597647  0.85928869 -0.18524382\n",
      "  1.019986   -0.30576681  0.2968481  -0.66733575  1.50207792  2.02434418\n",
      "  0.61824272  0.09597647 -0.1450695   0.61824272  0.45754541 -0.38611546\n",
      "  0.45754541  2.42608745 -1.10925335  0.09597647 -0.26559248  0.53789407\n",
      " -0.34594113  0.01562781  0.37719676  0.21649945  1.30120629 -0.42628979\n",
      " -0.78785873 -0.1450695   1.06016032  1.06016032 -0.34594113  0.01562781\n",
      " -1.4708223   0.25667378 -0.02454651  0.2968481  -0.18524382 -1.0289047\n",
      " -0.98873037 -0.5869871  -1.31012499  1.86364687 -0.50663844  0.17632512\n",
      "  0.5780684   1.74312389 -0.62716142  0.05580214  0.01562781  1.10033465\n",
      " -2.43500615  2.46626178 -1.14942768 -0.54681277  1.54225225  0.61824272\n",
      " -0.18524382 -0.18524382 -0.94855604 -0.06472084  0.1361508   1.34138061\n",
      "  0.61824272  1.10033465 -0.62716142  0.01562781  0.7387657   0.33702243\n",
      "  1.82347254  2.94835371 -0.46646411 -0.30576681 -0.74768441  0.01562781\n",
      "  0.93963734 -1.63151961  0.09597647  1.4619036  -0.78785873  1.06016032\n",
      " -0.42628979  1.78329822  0.49771974 -1.43064797 -1.35029932  0.05580214\n",
      "  0.25667378 -0.42628979 -0.42628979 -1.59134528 -0.74768441  1.10033465\n",
      "  0.37719676 -1.31012499  0.33702243 -1.59134528 -1.43064797  0.01562781\n",
      " -0.22541815  1.70294956  0.77894003  0.2968481   1.06016032 -0.98873037\n",
      " -1.06907902  0.25667378 -1.06907902  0.89946301 -1.95291422 -0.50663844\n",
      " -0.46646411 -0.70751008  0.81911436  0.2968481  -0.1450695   1.34138061\n",
      "  1.62260091 -1.26995066 -0.34594113 -1.67169393  0.25667378 -0.02454651\n",
      "  2.30556447  0.1361508   0.69859138  0.01562781 -0.1450695   2.10469283\n",
      "  0.49771974  0.53789407  0.45754541 -0.34594113 -1.14942768 -1.87256557\n",
      "  0.61824272  0.69859138  0.41737109  1.019986   -0.30576681  0.1361508\n",
      " -1.55117095 -1.43064797 -0.06472084  1.22085763  0.77894003 -0.26559248\n",
      "  1.98416985 -1.4708223  -1.0289047  -0.74768441  0.41737109 -0.86820739\n",
      " -0.90838171  0.05580214  0.77894003 -1.63151961 -0.82803306 -0.98873037\n",
      " -0.38611546  0.33702243  0.09597647  2.7876564  -1.75204259  0.77894003\n",
      "  1.42172927  1.70294956 -0.66733575  0.49771974 -0.5869871   0.7387657\n",
      " -0.38611546 -0.10489517 -0.78785873 -1.18960201 -0.82803306 -0.06472084\n",
      " -0.22541815  0.93963734  0.89946301 -0.86820739  1.10033465  1.10033465\n",
      "  0.05580214  0.65841705 -0.38611546  1.34138061 -0.70751008  0.2968481\n",
      " -2.47518048 -0.94855604 -0.1450695  -0.02454651  0.65841705  0.7387657\n",
      "  1.06016032  0.7387657   0.81911436 -0.98873037 -0.26559248  1.10033465\n",
      "  1.42172927  0.93963734 -0.94855604 -0.38611546  1.26103196 -0.62716142\n",
      "  0.61824272  2.06451851  0.5780684  -1.18960201  1.30120629 -1.39047364\n",
      " -0.10489517 -1.35029932 -0.54681277  1.34138061 -1.22977633  0.1361508\n",
      " -1.0289047  -0.62716142  1.14050898 -0.22541815 -0.18524382  0.93963734\n",
      " -1.31012499 -0.10489517  1.42172927 -2.19396019 -1.06907902  0.2968481\n",
      " -1.10925335  2.66713342  0.09597647  0.85928869  0.81911436 -0.38611546\n",
      "  2.14486716 -1.14942768  0.69859138  0.2968481  -1.59134528  0.21649945\n",
      "  0.45754541  0.89946301 -0.38611546  1.06016032 -0.42628979 -1.4708223\n",
      "  1.54225225 -1.31012499 -0.22541815  0.33702243  0.53789407  0.01562781\n",
      "  1.26103196  2.50643611 -1.18960201  0.5780684   0.37719676 -0.22541815\n",
      " -0.90838171 -1.06907902 -0.46646411 -0.1450695   1.9038212   0.2968481\n",
      "  0.5780684   0.53789407 -0.90838171  0.65841705 -0.02454651  0.45754541\n",
      "  1.06016032 -0.02454651 -0.54681277 -0.62716142  1.78329822 -1.87256557\n",
      "  0.69859138  0.5780684  -1.22977633 -0.22541815 -0.1450695   1.42172927\n",
      " -0.74768441  0.17632512 -0.1450695  -0.94855604 -0.34594113 -0.78785873\n",
      "  1.10033465 -0.50663844 -0.02454651  0.69859138  2.10469283  0.45754541\n",
      "  0.2968481  -0.46646411 -1.31012499 -0.34594113  0.1361508   1.26103196\n",
      " -0.54681277 -1.31012499 -0.90838171  1.50207792 -0.98873037  1.14050898\n",
      "  2.02434418  1.06016032 -0.98873037  0.09597647]\n"
     ]
    }
   ],
   "source": [
    "# Using sklearn\n",
    "from sklearn import preprocessing\n",
    "z_score2 = preprocessing.scale(df_pizza[\"Delivery Time\"])\n",
    "print(f\"the z-score of the delivery time is {z_score2}\")"
   ]
  },
  {
   "cell_type": "code",
   "execution_count": 35,
   "metadata": {},
   "outputs": [],
   "source": [
    "# not really comparable so let add them to the df or create a data\n",
    "results_dict = {\n",
    "    \"Equation\":z_score,\n",
    "    \"Sklearn\":z_score2\n",
    "}\n",
    "\n",
    "z_scores = pd.DataFrame(results_dict)"
   ]
  },
  {
   "cell_type": "code",
   "execution_count": 37,
   "metadata": {},
   "outputs": [],
   "source": [
    "z_scores[\"diff\"] = round(((z_scores.Equation - z_scores.Sklearn)/z_scores.Sklearn)*100,2)"
   ]
  },
  {
   "cell_type": "code",
   "execution_count": 38,
   "metadata": {},
   "outputs": [
    {
     "data": {
      "text/html": [
       "<div>\n",
       "<style scoped>\n",
       "    .dataframe tbody tr th:only-of-type {\n",
       "        vertical-align: middle;\n",
       "    }\n",
       "\n",
       "    .dataframe tbody tr th {\n",
       "        vertical-align: top;\n",
       "    }\n",
       "\n",
       "    .dataframe thead th {\n",
       "        text-align: right;\n",
       "    }\n",
       "</style>\n",
       "<table border=\"1\" class=\"dataframe\">\n",
       "  <thead>\n",
       "    <tr style=\"text-align: right;\">\n",
       "      <th></th>\n",
       "      <th>Equation</th>\n",
       "      <th>Sklearn</th>\n",
       "      <th>diff</th>\n",
       "    </tr>\n",
       "  </thead>\n",
       "  <tbody>\n",
       "    <tr>\n",
       "      <th>0</th>\n",
       "      <td>0.497471</td>\n",
       "      <td>0.497720</td>\n",
       "      <td>-0.05</td>\n",
       "    </tr>\n",
       "    <tr>\n",
       "      <th>1</th>\n",
       "      <td>1.099784</td>\n",
       "      <td>1.100335</td>\n",
       "      <td>-0.05</td>\n",
       "    </tr>\n",
       "    <tr>\n",
       "      <th>2</th>\n",
       "      <td>2.585491</td>\n",
       "      <td>2.586785</td>\n",
       "      <td>-0.05</td>\n",
       "    </tr>\n",
       "    <tr>\n",
       "      <th>3</th>\n",
       "      <td>-1.711012</td>\n",
       "      <td>-1.711868</td>\n",
       "      <td>-0.05</td>\n",
       "    </tr>\n",
       "    <tr>\n",
       "      <th>4</th>\n",
       "      <td>1.059630</td>\n",
       "      <td>1.060160</td>\n",
       "      <td>-0.05</td>\n",
       "    </tr>\n",
       "    <tr>\n",
       "      <th>...</th>\n",
       "      <td>...</td>\n",
       "      <td>...</td>\n",
       "      <td>...</td>\n",
       "    </tr>\n",
       "    <tr>\n",
       "      <th>995</th>\n",
       "      <td>1.139939</td>\n",
       "      <td>1.140509</td>\n",
       "      <td>-0.05</td>\n",
       "    </tr>\n",
       "    <tr>\n",
       "      <th>996</th>\n",
       "      <td>2.023332</td>\n",
       "      <td>2.024344</td>\n",
       "      <td>-0.05</td>\n",
       "    </tr>\n",
       "    <tr>\n",
       "      <th>997</th>\n",
       "      <td>1.059630</td>\n",
       "      <td>1.060160</td>\n",
       "      <td>-0.05</td>\n",
       "    </tr>\n",
       "    <tr>\n",
       "      <th>998</th>\n",
       "      <td>-0.988236</td>\n",
       "      <td>-0.988730</td>\n",
       "      <td>-0.05</td>\n",
       "    </tr>\n",
       "    <tr>\n",
       "      <th>999</th>\n",
       "      <td>0.095928</td>\n",
       "      <td>0.095976</td>\n",
       "      <td>-0.05</td>\n",
       "    </tr>\n",
       "  </tbody>\n",
       "</table>\n",
       "<p>1000 rows × 3 columns</p>\n",
       "</div>"
      ],
      "text/plain": [
       "     Equation   Sklearn  diff\n",
       "0    0.497471  0.497720 -0.05\n",
       "1    1.099784  1.100335 -0.05\n",
       "2    2.585491  2.586785 -0.05\n",
       "3   -1.711012 -1.711868 -0.05\n",
       "4    1.059630  1.060160 -0.05\n",
       "..        ...       ...   ...\n",
       "995  1.139939  1.140509 -0.05\n",
       "996  2.023332  2.024344 -0.05\n",
       "997  1.059630  1.060160 -0.05\n",
       "998 -0.988236 -0.988730 -0.05\n",
       "999  0.095928  0.095976 -0.05\n",
       "\n",
       "[1000 rows x 3 columns]"
      ]
     },
     "execution_count": 38,
     "metadata": {},
     "output_type": "execute_result"
    }
   ],
   "source": [
    "z_scores"
   ]
  },
  {
   "cell_type": "markdown",
   "metadata": {},
   "source": [
    "## Confidence levels"
   ]
  },
  {
   "cell_type": "code",
   "execution_count": 41,
   "metadata": {},
   "outputs": [
    {
     "name": "stdout",
     "output_type": "stream",
     "text": [
      "the corresponding distribution value for 0.005 is -2.58\n",
      "the corresponding distribution value for 0.025 is -1.96\n",
      "the corresponding distribution value for 0.05 is -1.64\n",
      "the corresponding distribution value for 0.95 is 1.64\n",
      "the corresponding distribution value for 0.975 is 1.96\n",
      "the corresponding distribution value for 0.995 is 2.58\n"
     ]
    }
   ],
   "source": [
    "cl = [0.005, 0.025, 0.05, 0.95, 0.975, 0.995]\n",
    "for item in cl:\n",
    "    print(f\"the corresponding distribution value for {item} is {np.round(st.norm.ppf(item),2)}\") # percent point function \n"
   ]
  },
  {
   "cell_type": "markdown",
   "metadata": {},
   "source": [
    "## Confidence levels for large sample"
   ]
  },
  {
   "cell_type": "code",
   "execution_count": 45,
   "metadata": {},
   "outputs": [
    {
     "name": "stdout",
     "output_type": "stream",
     "text": [
      "The mean is 19.342\n"
     ]
    },
    {
     "data": {
      "text/plain": [
       "(np.float64(19.134648887510703), np.float64(19.549351112489294))"
      ]
     },
     "execution_count": 45,
     "metadata": {},
     "output_type": "execute_result"
    }
   ],
   "source": [
    "# Compute the confidence interval for the Price KPI\n",
    "print(f\"The mean is {df_pizza.Price.mean()}\")\n",
    "st.norm.interval(confidence=0.95, \n",
    "                loc=df_pizza.Price.mean(),\n",
    "                scale = st.sem(df_pizza.Price)\n",
    "\t\t\t\t\t\t\t\t )"
   ]
  },
  {
   "cell_type": "code",
   "execution_count": 49,
   "metadata": {},
   "outputs": [
    {
     "name": "stdout",
     "output_type": "stream",
     "text": [
      "1000\n",
      "1000\n",
      "1000\n",
      "1000\n",
      "1000\n",
      "1000\n"
     ]
    }
   ],
   "source": [
    "df_pizza.head()\n",
    "for col in df_pizza:\n",
    "    print(df_pizza[col].count())"
   ]
  },
  {
   "cell_type": "code",
   "execution_count": null,
   "metadata": {},
   "outputs": [],
   "source": [
    "# Exercice: Using ChatGPT\n",
    "# Create a function that for each numerical variable that has a sample size \n",
    "# bigger than 30, compute the confidence interval for the mean\n",
    "def compute_confidence_intervals(df, confidence_level=0.95):\n",
    "    # Store results\n",
    "    confidence_intervals = {}\n",
    "    \n",
    "    # Z-score for the given confidence level\n",
    "    z = st.norm.ppf((1 + confidence_level) / 2)\n",
    "    \n",
    "    # Iterate over each column in the DataFrame\n",
    "    for col in df.select_dtypes(include=[np.number]):  # Only numerical columns\n",
    "        sample = df[col].dropna()  # Drop missing values\n",
    "        n = len(sample)  # Sample size\n",
    "        \n",
    "        if n > 30:  # Only if sample size is greater than 30\n",
    "            mean = sample.mean()  # Sample mean\n",
    "            std = sample.std()  # Sample standard deviation\n",
    "            margin_of_error = z * (std / np.sqrt(n))  # Compute margin of error\n",
    "            \n",
    "            # Confidence interval\n",
    "            ci = (mean - margin_of_error, mean + margin_of_error)\n",
    "            confidence_intervals[col] = ci\n",
    "\n",
    "\n",
    "    \n",
    "    return confidence_intervals\n"
   ]
  },
  {
   "cell_type": "code",
   "execution_count": 51,
   "metadata": {},
   "outputs": [
    {
     "data": {
      "text/plain": [
       "{'Toppings': (np.float64(3.9017074909279676), np.float64(4.028292509072032)),\n",
       " 'Price': (np.float64(19.134648887510703), np.float64(19.549351112489294)),\n",
       " 'Delivery Time': (np.float64(24.9067464105456), np.float64(25.2154535894544)),\n",
       " '# pizzas the customer ordered before': (np.float64(5.5065408812039385),\n",
       "  np.float64(5.811459118796061))}"
      ]
     },
     "execution_count": 51,
     "metadata": {},
     "output_type": "execute_result"
    }
   ],
   "source": [
    "compute_confidence_intervals(df=df_pizza)"
   ]
  },
  {
   "cell_type": "markdown",
   "metadata": {},
   "source": [
    "## Confidence intervals for small samples"
   ]
  },
  {
   "cell_type": "code",
   "execution_count": 53,
   "metadata": {},
   "outputs": [
    {
     "data": {
      "text/html": [
       "<div>\n",
       "<style scoped>\n",
       "    .dataframe tbody tr th:only-of-type {\n",
       "        vertical-align: middle;\n",
       "    }\n",
       "\n",
       "    .dataframe tbody tr th {\n",
       "        vertical-align: top;\n",
       "    }\n",
       "\n",
       "    .dataframe thead th {\n",
       "        text-align: right;\n",
       "    }\n",
       "</style>\n",
       "<table border=\"1\" class=\"dataframe\">\n",
       "  <thead>\n",
       "    <tr style=\"text-align: right;\">\n",
       "      <th></th>\n",
       "      <th>Toppings</th>\n",
       "      <th>Price</th>\n",
       "      <th>Delivery Time</th>\n",
       "      <th># pizzas the customer ordered before</th>\n",
       "    </tr>\n",
       "  </thead>\n",
       "  <tbody>\n",
       "    <tr>\n",
       "      <th>count</th>\n",
       "      <td>20.000000</td>\n",
       "      <td>20.00000</td>\n",
       "      <td>20.000000</td>\n",
       "      <td>20.000000</td>\n",
       "    </tr>\n",
       "    <tr>\n",
       "      <th>mean</th>\n",
       "      <td>4.100000</td>\n",
       "      <td>19.20000</td>\n",
       "      <td>25.485000</td>\n",
       "      <td>5.450000</td>\n",
       "    </tr>\n",
       "    <tr>\n",
       "      <th>std</th>\n",
       "      <td>1.020836</td>\n",
       "      <td>2.93078</td>\n",
       "      <td>2.648391</td>\n",
       "      <td>2.163696</td>\n",
       "    </tr>\n",
       "    <tr>\n",
       "      <th>min</th>\n",
       "      <td>2.000000</td>\n",
       "      <td>15.00000</td>\n",
       "      <td>20.700000</td>\n",
       "      <td>2.000000</td>\n",
       "    </tr>\n",
       "    <tr>\n",
       "      <th>25%</th>\n",
       "      <td>3.000000</td>\n",
       "      <td>17.00000</td>\n",
       "      <td>23.900000</td>\n",
       "      <td>3.750000</td>\n",
       "    </tr>\n",
       "    <tr>\n",
       "      <th>50%</th>\n",
       "      <td>4.000000</td>\n",
       "      <td>18.50000</td>\n",
       "      <td>25.300000</td>\n",
       "      <td>5.500000</td>\n",
       "    </tr>\n",
       "    <tr>\n",
       "      <th>75%</th>\n",
       "      <td>5.000000</td>\n",
       "      <td>21.00000</td>\n",
       "      <td>27.800000</td>\n",
       "      <td>6.250000</td>\n",
       "    </tr>\n",
       "    <tr>\n",
       "      <th>max</th>\n",
       "      <td>6.000000</td>\n",
       "      <td>26.00000</td>\n",
       "      <td>29.500000</td>\n",
       "      <td>9.000000</td>\n",
       "    </tr>\n",
       "  </tbody>\n",
       "</table>\n",
       "</div>"
      ],
      "text/plain": [
       "        Toppings     Price  Delivery Time  \\\n",
       "count  20.000000  20.00000      20.000000   \n",
       "mean    4.100000  19.20000      25.485000   \n",
       "std     1.020836   2.93078       2.648391   \n",
       "min     2.000000  15.00000      20.700000   \n",
       "25%     3.000000  17.00000      23.900000   \n",
       "50%     4.000000  18.50000      25.300000   \n",
       "75%     5.000000  21.00000      27.800000   \n",
       "max     6.000000  26.00000      29.500000   \n",
       "\n",
       "       # pizzas the customer ordered before  \n",
       "count                             20.000000  \n",
       "mean                               5.450000  \n",
       "std                                2.163696  \n",
       "min                                2.000000  \n",
       "25%                                3.750000  \n",
       "50%                                5.500000  \n",
       "75%                                6.250000  \n",
       "max                                9.000000  "
      ]
     },
     "execution_count": 53,
     "metadata": {},
     "output_type": "execute_result"
    }
   ],
   "source": [
    "# Take a sample from the data\n",
    "sample = df_pizza.sample(20)\n",
    "sample.describe()"
   ]
  },
  {
   "cell_type": "code",
   "execution_count": 54,
   "metadata": {},
   "outputs": [
    {
     "data": {
      "text/plain": [
       "(np.float64(17.828352556241295), np.float64(20.571647443758703))"
      ]
     },
     "execution_count": 54,
     "metadata": {},
     "output_type": "execute_result"
    }
   ],
   "source": [
    "# with the function scipy.stats\n",
    "st.t.interval(confidence = 0.95, df = len(sample)-1, loc=sample.Price.mean(), scale=st.sem(sample.Price))"
   ]
  },
  {
   "cell_type": "code",
   "execution_count": 55,
   "metadata": {},
   "outputs": [],
   "source": [
    "import pandas as pd\n",
    "import numpy as np\n",
    "from scipy.stats import norm, t\n",
    "\n",
    "def compute_confidence_intervals(df, confidence_level=0.95):\n",
    "    # Store results\n",
    "    confidence_intervals = {}\n",
    "    \n",
    "    for col in df.select_dtypes(include=[np.number]):  # Only numerical columns\n",
    "        sample = df[col].dropna()  # Drop missing values\n",
    "        n = len(sample)  # Sample size\n",
    "        \n",
    "        if n == 0:  # Skip if no data\n",
    "            continue\n",
    "        \n",
    "        mean = sample.mean()  # Sample mean\n",
    "        std = sample.std()  # Sample standard deviation\n",
    "        \n",
    "        # Select distribution based on sample size\n",
    "        if n > 30:\n",
    "            # Use Z-score for normal distribution\n",
    "            z = norm.ppf((1 + confidence_level) / 2)\n",
    "            margin_of_error = z * (std / np.sqrt(n))\n",
    "        else:\n",
    "            # Use t-score for small samples\n",
    "            t_score = t.ppf((1 + confidence_level) / 2, df=n-1)\n",
    "            margin_of_error = t_score * (std / np.sqrt(n))\n",
    "        \n",
    "        # Confidence interval\n",
    "        ci = (mean - margin_of_error, mean + margin_of_error)\n",
    "        confidence_intervals[col] = ci\n",
    "    \n",
    "    return confidence_intervals\n"
   ]
  },
  {
   "cell_type": "code",
   "execution_count": 56,
   "metadata": {},
   "outputs": [
    {
     "data": {
      "text/plain": [
       "{'Toppings': (np.float64(3.6222342461542425), np.float64(4.577765753845757)),\n",
       " 'Price': (np.float64(17.828352556241295), np.float64(20.571647443758703)),\n",
       " 'Delivery Time': (np.float64(24.245514964609757),\n",
       "  np.float64(26.72448503539025)),\n",
       " '# pizzas the customer ordered before': (np.float64(4.437359255873281),\n",
       "  np.float64(6.46264074412672))}"
      ]
     },
     "execution_count": 56,
     "metadata": {},
     "output_type": "execute_result"
    }
   ],
   "source": [
    "compute_confidence_intervals(sample)"
   ]
  },
  {
   "cell_type": "code",
   "execution_count": null,
   "metadata": {},
   "outputs": [],
   "source": []
  }
 ],
 "metadata": {
  "kernelspec": {
   "display_name": ".venv",
   "language": "python",
   "name": "python3"
  },
  "language_info": {
   "codemirror_mode": {
    "name": "ipython",
    "version": 3
   },
   "file_extension": ".py",
   "mimetype": "text/x-python",
   "name": "python",
   "nbconvert_exporter": "python",
   "pygments_lexer": "ipython3",
   "version": "3.12.4"
  }
 },
 "nbformat": 4,
 "nbformat_minor": 2
}
